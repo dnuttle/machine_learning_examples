{
 "cells": [
  {
   "cell_type": "markdown",
   "metadata": {},
   "source": [
    "# Multiple and polynomial linear regression\n",
    "## Define multidimensional problem and derive solution\n",
    "- For simple linear regression: ${(x_1, y_1), (x_2), (y_2)...(x_n, y_n)}$\n",
    "- Now $x_i$ is a vector, not a scalar\n",
    "- Dimensinalithy $D$ is the length of the vector\n",
    "- Therefore $w$ also of size $D$\n",
    "$$y = \\hat{y} = w^{T}x + b$$\n",
    "### Bias term\n",
    "The $b$ term can be absorbed into $x$ as a 1, multiplied against $w_0$\n",
    "$$\\hat{y} = b + w_1x_1 + w_2x_2 + \\dots + w_Dx_D$$\n",
    "$$\\hat{y} = w_0 + w_1x_1 + w_2x_2 + \\dots + w_Dx_D$$\n",
    "$$\\hat{y} = w_0x_0 + w_1x_1 + w_2x_2 + \\dots + w_Dx_D = w'^{T}x', x_0 = 1$$\n",
    "### Derivation\n",
    "$$E = \\sum_{i=1}^N (y_i - \\hat{y})^2$$\n",
    "$$ = \\sum_{i=1}^N (y_i - w^Tx_i)^2$$\n",
    "We can still take the derivative wrt any component of w:\n",
    "$$\\frac{\\partial E}{\\partial w_j} = ?, j = 1..D$$\n",
    "$$\\frac{\\partial E}{\\partial w_j} \n",
    "= \\sum_{i=1}^N 2(y_i - w^Tx_i) \\left(-\\frac{\\partial w^Tx_j}{\\partial w_j} \\right)\n",
    "= \\sum_{i=1}^N 2(y_i - w^Tx_i)(-x_{ij})$$\n",
    "Now set to 0 and solve.\n",
    "$$\\sum_{i=1}^N 2(y_i - w^Tx_i)(-x_{ij}) = 0$$"
   ]
  },
  {
   "cell_type": "markdown",
   "metadata": {},
   "source": [
    "$$\\sum_{i=1}^N -2x_{ij}y_i + 2(x_{ij})(w^Tx_i) = 0$$\n",
    "$$2\\sum_{i=1}^N -(x_{ij})(y_i) + 2\\sum_{i=1}^N (x_{ij})(w^Tx_i) = 0$$\n",
    "$$\\sum_{i=1}^N -(x_{ij})(y_i) + \\sum_{i=1}^N (x_{ij})(w^Tx_i) = 0$$\n",
    "$$\\sum_{i=1}^N (x_{ij})(y_i) + \\sum_{i=1}^N w^Tx_i x_{ij}$$\n",
    "$$\\sum_{i=1}^{N} (x_{ij})(y_i) = w^T \\sum_{i=1}^{N} x_i x_{ij}$$"
   ]
  }
 ],
 "metadata": {
  "kernelspec": {
   "display_name": "Python 2",
   "language": "python",
   "name": "python2"
  },
  "language_info": {
   "codemirror_mode": {
    "name": "ipython",
    "version": 2
   },
   "file_extension": ".py",
   "mimetype": "text/x-python",
   "name": "python",
   "nbconvert_exporter": "python",
   "pygments_lexer": "ipython2",
   "version": "2.7.13"
  }
 },
 "nbformat": 4,
 "nbformat_minor": 2
}
